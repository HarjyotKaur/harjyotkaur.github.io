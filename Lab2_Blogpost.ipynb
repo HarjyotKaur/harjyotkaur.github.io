{
 "cells": [
  {
   "cell_type": "markdown",
   "metadata": {},
   "source": [
    "# DSCI 542 Lab 2"
   ]
  },
  {
   "cell_type": "markdown",
   "metadata": {},
   "source": [
    "# Introduction to Hypothesis Testing"
   ]
  },
  {
   "cell_type": "markdown",
   "metadata": {},
   "source": [
    "Every thing we can possibly think about can be accompanied with an observation. The methodology to prove your assumption using statistical techniques, introduces you to the world of Hypothesis Testing. "
   ]
  },
  {
   "cell_type": "markdown",
   "metadata": {},
   "source": [
    "For instance, the mean age of a cohort of students studying Data Science in UBC is 27. When a random sample of 35 students was selected, their average age was 25. Try comparing the information given about the population and sample. We can make the following observations.\n",
    "\n",
    "\n",
    "\n",
    "\n",
    "<img src=\"imgs/sampling.jpg\" width=\"500\"/>\n",
    "<br>\n",
    "Image Source <a href=\"https://nces.ed.gov/blogs/nces/post/statistical-concepts-in-brief-how-and-why-does-nces-use-sample-surveys\">nces.ed.gov</a>\n",
    "\n",
    "\n",
    "\n",
    "* 35 students(sample) selected do not belong to the cohort(population) and thus have a different average age\n",
    "* 35 students(sample) selected do belong to the cohort(population) and it was a case of random chance that this particular sample got selected.\n",
    "\n",
    "Now we can use the following methods to prove either of these obersations:\n",
    "\n",
    "* A different sample of the same size could be sampled to represent the population\n",
    "* The sample size of the current sample could be increased to make it a more relevant representation of the population\n",
    "* Or we could use statistical techniques to check which of the above observations hold\n",
    "\n",
    "The first two would require a lot of mannual effort and resources, thus we decide to go with third option. Before, we delve further into formulas, let's go through some basic statistical concepts!"
   ]
  },
  {
   "cell_type": "markdown",
   "metadata": {},
   "source": [
    "## Z Value"
   ]
  },
  {
   "cell_type": "markdown",
   "metadata": {},
   "source": [
    "To conduct a Z-test, we need to make two assumptions:\n",
    "* The population is __normally distributed__ with a mean and standard deviation $\\therefore X \\sim N(\\mu,\\sigma)$\n",
    "* The sample should be a __simple random sample__\n",
    "\n",
    "Since the population is assumed to be normally distrbuted it is associated with the following terminology:  \n",
    "\n",
    "Z Value is the number of standard deviations, the value is away from the mean. \n",
    "The Z-value has a corresponding P-value which represents the probability of random chance, higher the probability higher is the chance of acceptance of randomness whereas a lower the probability would attribute difference in behaviour between the sample and population.\n",
    "(From the Z-table, one can find the corresponding p-value for the z-value:<a href=\"http://users.stat.ufl.edu/~athienit/Tables/Ztable.pdf\"> Z table</a>)\n",
    "\n",
    "<img src=\"imgs/z_p_value.png\"/>\n",
    "<br>\n",
    "Image Source:<a href=\"http://pro.arcgis.com/en/pro-app/tool-reference/spatial-statistics/what-is-a-z-score-what-is-a-p-value.htm\">pro.arcgis.com </a>\n",
    "\n",
    "### Z Statistic can be calculated using:\n",
    "\n",
    "# $ z=\\frac {x-\\mu} {\\sigma / \\sqrt n} $\n",
    "\n",
    "Where $\\mu$ and $\\sigma$ are the mean and standard deviation of the population and $x$ mean of the sample"
   ]
  },
  {
   "cell_type": "markdown",
   "metadata": {},
   "source": [
    "## Level of Significance"
   ]
  },
  {
   "cell_type": "markdown",
   "metadata": {},
   "source": [
    "A measure is required to classify whether the p-value (probability of random chance) is high or low, it is known as the level of significance. Deciding the level of significance depends on the person/organization conducting the testing, it could be 10%, 5% or 1%.   \n",
    "So for example,\n",
    "* Level of significance chosen for the test is 5% \n",
    "* Suppose, the p-value(probability of random chance) computed in the above example is 2%, $(0.02 < 0.05)$  \n",
    "then we can say, that the probability of random chance that this particular group of 35 students was chosen from the population is very less which suggests that a there is not much evidence to say that the two entities are similar i.e the sample and population showcase different behaviours. \n",
    "\n",
    "\n",
    "<img src=\"imgs/significance_level.PNG\"/>\n",
    "Image Source:<a href=\"https://www.slideshare.net/krookroo/statistics-presentation-week-7\">Slideshare </a>\n",
    "\n",
    "Also, For __5% of Significance Level__, the __Confidence Level is 95%__ that means, we can say with 95% confidence that both of them are different  \n",
    "Similarly, for  __1% of Significance Level__, the __Confidence Level is 99%__ and for  __10% of Significance Level__, the __Confidence Level is 90%__"
   ]
  },
  {
   "cell_type": "markdown",
   "metadata": {},
   "source": [
    "## Hypothesis and Tailed Tests"
   ]
  },
  {
   "cell_type": "markdown",
   "metadata": {},
   "source": [
    "Let's go back to the observations we made earlier. \n",
    "\n",
    "### Null Hypothesis\n",
    "As a decision maker, you should first look at the problem with a neutral or null attitude regarding the outcome of the test. Such a neutral or null attitude of the decision maker gives us the *Null Hypothesis*. It is an assertion stating no difference between the sample and population. It represented as\n",
    "\n",
    "$H_o: \\mu = \\mu_o$\n",
    "\n",
    "Given, the above example, our Null Hypothesis here is  $H_o: \\mu = 27$, meaning the sample and population have similar behaviours.\n",
    "\n",
    "### Alternate Hypothesis\n",
    "\n",
    "Any assertion that challenges the Null Hypothesis is an *Alternate Hypothesis*. It is the hypothesis that is accepted upon rejection of Null Hypothesis.\n",
    "\n",
    "$H_o: \\mu \\neq\\mu_o$\n",
    "\n",
    "For the above stated example, our alternaternate hypothesis is $H_1: \\mu \\neq 27$, meaning the sample and population are different from each other.\n",
    "\n",
    "Alternate Hypothesis can also be directional such as\n",
    "* $H_1: \\mu > \\mu_o$\n",
    "* $H_1: \\mu < \\mu_o$\n",
    "\n",
    "The last two directional Hypothesis give rise to *one-tailed tests* whereas the non-directional hypothesis is a *two-tailed test*. The only difference between the two is, that the level of significance remains the same for a one-tailed test, but gets divided by two for a two-tailed test. \n",
    "\n",
    "<img src=\"imgs/tailed_tests2.gif\" width=\"700\"/>\n",
    "Image Source:<a href=\"http://www.fao.org/docrep/003/X6831E/X6831E05.htm\">Fao.org </a>"
   ]
  },
  {
   "cell_type": "markdown",
   "metadata": {},
   "source": [
    "## Types of Errors"
   ]
  },
  {
   "cell_type": "markdown",
   "metadata": {},
   "source": [
    "The decision to retain or reject the Null Hypothesis can give rise to two errors:\n",
    "\n",
    "<img src=\"imgs/type_of_errors4.png\" width=\"500\"/>\n",
    "<br>\n",
    "Image Source:<a href=\"https://www.chegg.com/homework-help/definitions/type-i-and-type-ii-errors-31\">Chegg.com</a>\n",
    "\n",
    "Type I error arises when the decision maker rejects null hypothesis when it is true, it is also known as $\\alpha$. And, $\\alpha$ is also known as the Level of a Significance of a test, thus when we assert something with a 95% Confidence Level we assign 5% to committing a Type I error (Level of Significance).  \n",
    "\n",
    "$*$*This article dosen't explain Type II error, for information regarding the same click on this link <a href=\"https://www.ssc.wisc.edu/~gwallace/PA_818/Resources/Type%20II%20Error%20and%20Power%20Calculations.pdf\"> Type II Error <a>*"
   ]
  },
  {
   "cell_type": "markdown",
   "metadata": {},
   "source": [
    "## Time to connect all the dots!"
   ]
  },
  {
   "cell_type": "markdown",
   "metadata": {},
   "source": [
    "#### Example 1:\n",
    "\n",
    "A test on awarenes of Data Science was conducted in a University, the average score on the test was 58 with a standard deviation of 15. That got you into thinking that students studying Statistics/Computer Science/Data Science would be __more aware__ about the field of Data Science. So you randomly sample out the scores of 100 such students and their mean score was 65. Is your sample more aware about Data Science? \n",
    "\n",
    "- __Step 1:__ Let's first state our null and alternative hypothesis  \n",
    "    $H_o: \\mu = 58$  \n",
    "    $H_1: \\mu > 58$  \n",
    "\n",
    "\n",
    "- __Step 2:__ Now let's compute the Z statistics for this:  \n",
    "  Population mean ( $\\mu$)=58  \n",
    "  Population standard deviation ( $\\sigma$)=15  \n",
    "  Sample mean ($x$)=65  \n",
    "  As stated above, $ z=\\frac {x-\\mu} {\\sigma / \\sqrt n} $  \n",
    "  \n",
    "  #### $z=\\frac {65-58} {15 / \\sqrt 100} = 4.66 $\n",
    "  \n",
    "  \n",
    "- __Step 3:__ Since the Level of Significance is not given, let's assume it to be 5% i.e $\\alpha = 5\\%$\n",
    "  Now we can either take the p-value as 0.05 or we look in the z-table to find the corresponding z score=1.65\n",
    "  \n",
    "  \n",
    "- __Step 4__: For the ease of understanding, we'll compare both Z-scores and P-values. \n",
    "  * The Z-score at 5% Level of Significance is 1.65 and the p-value is 0.05\n",
    "  * The computed Z-score is 4.66 and the corresponding p-value from the z-table is 0.0007\n",
    "  \n",
    "Since $ 0.0007 $<$ 0.05 $ we __reject__ the Null Hypothesis. Also, to look at it from another angle, you can compare the z-scores, since $ 4.66 > 1.65 $, we __reject__ the Null Hypothesis. These both that the population and sample have different behaviours, hence we reject the null hypothesis and accept the alternate hypothesis, that the sample does have a higher awareness of Data Science than the population."
   ]
  }
 ],
 "metadata": {
  "kernelspec": {
   "display_name": "Python 3",
   "language": "python",
   "name": "python3"
  },
  "language_info": {
   "codemirror_mode": {
    "name": "ipython",
    "version": 3
   },
   "file_extension": ".py",
   "mimetype": "text/x-python",
   "name": "python",
   "nbconvert_exporter": "python",
   "pygments_lexer": "ipython3",
   "version": "3.6.5"
  }
 },
 "nbformat": 4,
 "nbformat_minor": 2
}
